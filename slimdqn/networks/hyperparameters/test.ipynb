{
 "cells": [
  {
   "cell_type": "code",
   "execution_count": 41,
   "metadata": {},
   "outputs": [],
   "source": [
    "from ConfigSpace import ConfigurationSpace, Integer, Float, Configuration\n",
    "import jax\n",
    "\n",
    "key = jax.random.PRNGKey(10)\n",
    "\n",
    "\n",
    "cs = ConfigurationSpace(\n",
    "    seed=int(key[1]),\n",
    "    space={\n",
    "        \"idx_optimizer\": Integer(\"idx_optimizer\", bounds=(0, 4 - 1)),\n",
    "        \"learning_rate\": Float(\n",
    "            \"learning_rate\",\n",
    "            bounds=(10 ** -1, 10 ** 4),\n",
    "            log=True,\n",
    "        ),\n",
    "        \"idx_loss\": Integer(\"idx_loss\", bounds=(0, 3 - 1)),\n",
    "        \"n_layers\": Integer(\"n_layers\", bounds=(3, 8)),\n",
    "        \"n_neurons\": Integer(\"n_neurons\", bounds=(3, 4)),\n",
    "        \"idx_activation\": Integer(\"idx_activation\", bounds=(0, 3 - 1)),\n",
    "    },\n",
    ")\n"
   ]
  },
  {
   "cell_type": "code",
   "execution_count": 50,
   "metadata": {},
   "outputs": [
    {
     "data": {
      "text/plain": [
       "{'idx_activation': 2,\n",
       " 'idx_loss': 2,\n",
       " 'idx_optimizer': 0,\n",
       " 'learning_rate': 0.1423718740971,\n",
       " 'n_layers': 3,\n",
       " 'n_neurons': 4}"
      ]
     },
     "execution_count": 50,
     "metadata": {},
     "output_type": "execute_result"
    }
   ],
   "source": [
    "dict(cs.sample_configuration())"
   ]
  },
  {
   "cell_type": "code",
   "execution_count": 43,
   "metadata": {},
   "outputs": [
    {
     "data": {
      "text/plain": [
       "Configuration(values={\n",
       "  'idx_activation': 1,\n",
       "  'idx_loss': 1,\n",
       "  'idx_optimizer': 1,\n",
       "  'learning_rate': 36.7867323706364,\n",
       "  'n_layers': 7,\n",
       "  'n_neurons': 3,\n",
       "})"
      ]
     },
     "execution_count": 43,
     "metadata": {},
     "output_type": "execute_result"
    }
   ],
   "source": [
    "cs.sample_configuration()"
   ]
  }
 ],
 "metadata": {
  "kernelspec": {
   "display_name": "env_cpu",
   "language": "python",
   "name": "python3"
  },
  "language_info": {
   "codemirror_mode": {
    "name": "ipython",
    "version": 3
   },
   "file_extension": ".py",
   "mimetype": "text/x-python",
   "name": "python",
   "nbconvert_exporter": "python",
   "pygments_lexer": "ipython3",
   "version": "3.11.5"
  }
 },
 "nbformat": 4,
 "nbformat_minor": 2
}
