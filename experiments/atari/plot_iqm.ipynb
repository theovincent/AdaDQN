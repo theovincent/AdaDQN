{
 "cells": [
  {
   "cell_type": "code",
   "execution_count": null,
   "metadata": {},
   "outputs": [],
   "source": [
    "import os\n",
    "import json\n",
    "from itertools import zip_longest\n",
    "import numpy as np\n",
    "import matplotlib.pyplot as plt\n",
    "from experiments.base.iqm import get_iqm_and_conf_per_epoch\n",
    "\n",
    "game = \"BattleZone\"\n",
    "experiment_folders = [\n",
    "    f\"lr_1e-5_5e-5_1e-4_{game}/adadqnstatic\",\n",
    "    f\"olr_working_lr_6.25e-5_{game}/dqn\",\n",
    "]\n",
    "\n",
    "base_path = os.path.join(os.path.abspath(''), \"exp_output\")\n",
    "\n",
    "\n",
    "\n",
    "experiment_data = {experiment: {} for experiment in experiment_folders}\n",
    "\n",
    "for experiment in experiment_folders:\n",
    "\texperiment_path = os.path.join(base_path, experiment, \"episode_returns_and_lenghts\")\n",
    "\t\t\n",
    "\treturns_experiment_ = []\n",
    "\n",
    "\tfor experiment_file in os.listdir(experiment_path):\n",
    "\t\tlist_episode_returns = json.load(open(os.path.join(experiment_path, experiment_file), \"r\"))[\"episode_returns\"]\n",
    "\n",
    "\t\treturns_experiment_.append([np.mean(episode_returns) for episode_returns in list_episode_returns])\n",
    "\n",
    "\treturns_experiment = np.array(list(zip_longest(*returns_experiment_, fillvalue=np.nan))).T\n",
    "\n",
    "\tprint(f\"Plot {experiment} with {returns_experiment.shape[0]} seeds.\")\n",
    "\tif np.isnan(returns_experiment).any():\n",
    "\t\tseeds = np.array(list(map(lambda path: int(path.strip(\".json\")), os.listdir(experiment_path))))\n",
    "\t\tprint(f\"!!! Seeds {seeds[np.isnan(returns_experiment).any(axis=1)]} are not complete !!!\")\n",
    "\n",
    "\texperiment_data[experiment][\"iqm\"], experiment_data[experiment][\"confidence\"]  = get_iqm_and_conf_per_epoch(returns_experiment)\n",
    "\texperiment_data[experiment][\"x_values\"] = np.arange(1, returns_experiment.shape[1] + 1)"
   ]
  },
  {
   "cell_type": "code",
   "execution_count": null,
   "metadata": {},
   "outputs": [],
   "source": [
    "plt.rc(\"font\", family=\"serif\", serif=\"Times New Roman\", size=15)\n",
    "plt.rc(\"lines\", linewidth=4)\n",
    "\n",
    "fig = plt.figure()\n",
    "ax = fig.add_subplot(111)\n",
    "\n",
    "for experiment in experiment_folders:\n",
    "\tax.plot(\n",
    "\t\texperiment_data[experiment][\"x_values\"],\n",
    "\t\texperiment_data[experiment][\"iqm\"],\n",
    "\t\tlabel=experiment.split(\"/\")[1],\n",
    "\t)\n",
    "\tax.fill_between(\n",
    "\t\texperiment_data[experiment][\"x_values\"],\n",
    "\t\texperiment_data[experiment][\"confidence\"][0],\n",
    "\t\texperiment_data[experiment][\"confidence\"][1],\n",
    "\t\talpha=0.3,\n",
    "\t)\n",
    "\n",
    "ax.set_xlabel(\"Env Steps\")\n",
    "ax.set_ylabel(\"IQM Human Norm Score\", fontsize=15)\n",
    "\n",
    "ax.grid()\n",
    "ax.legend()\n",
    "_ = ax.set_title(game)"
   ]
  }
 ],
 "metadata": {
  "kernelspec": {
   "display_name": "env_cpu",
   "language": "python",
   "name": "python3"
  },
  "language_info": {
   "codemirror_mode": {
    "name": "ipython",
    "version": 3
   },
   "file_extension": ".py",
   "mimetype": "text/x-python",
   "name": "python",
   "nbconvert_exporter": "python",
   "pygments_lexer": "ipython3",
   "version": "3.11.5"
  }
 },
 "nbformat": 4,
 "nbformat_minor": 2
}
